{
    "nbformat_minor": 1, 
    "cells": [
        {
            "source": "# IBM Applied Data Science Specialization\n ### By Mike L\n <i>This notebook is used for my Capstone Project which concludes the 9 course specialization in Data Science</i>", 
            "cell_type": "markdown", 
            "metadata": {
                "collapsed": true
            }
        }, 
        {
            "source": "# (PROBLEM/CONCEPT)\n## The perfect night out:\n\nPeople (both tourists and residents alike) can become overwhelmed when planning a night out in a large city such as New York due to the seemingly endless amount of choices. This situation can actually become stressful and lead to less than optimal experiences. \nThe notebook will focus on building a clustering algorithm that analyzes event & nightlife data to recommend optimal bars according to concerts.", 
            "cell_type": "markdown", 
            "metadata": {}
        }, 
        {
            "source": "# Data\n## Location: New York City \n<ol>\n    <li>Predict HQ API: Concert data\n        <ul>\n            <li>Jazz concerts</li>\n            <li>Funk concerts</li> \n             <li>Jam band concerts</li></ul>\n    <li> FourSquare API: \n    <ul>\n            <li>bars - dive bars, live music, jazz, blues</li></ul>\n    <li> (Wikipedia, Jambase or similar scraping) To understand concert if genre is unknown- will aid in venue querying\n        </ol>\n        ", 
            "cell_type": "markdown", 
            "metadata": {}
        }, 
        {
            "source": "# Model:\n## Clustering\n<ul><li>K nearest neighbor</li>\n    or\n    <li>K-Means</li><ul>", 
            "cell_type": "markdown", 
            "metadata": {}
        }, 
        {
            "execution_count": null, 
            "cell_type": "code", 
            "metadata": {}, 
            "outputs": [], 
            "source": "# The code was removed by Watson Studio for sharing."
        }, 
        {
            "execution_count": 3, 
            "cell_type": "code", 
            "metadata": {}, 
            "outputs": [
                {
                    "output_type": "stream", 
                    "name": "stdout", 
                    "text": "Hello Capstone Project!\n"
                }
            ], 
            "source": "import pandas as pd\nimport numpy as np\nprint('Hello Capstone Project!')"
        }, 
        {
            "execution_count": null, 
            "cell_type": "code", 
            "metadata": {}, 
            "outputs": [], 
            "source": ""
        }
    ], 
    "metadata": {
        "kernelspec": {
            "display_name": "Python 3.5", 
            "name": "python3", 
            "language": "python"
        }, 
        "language_info": {
            "mimetype": "text/x-python", 
            "nbconvert_exporter": "python", 
            "version": "3.5.5", 
            "name": "python", 
            "file_extension": ".py", 
            "pygments_lexer": "ipython3", 
            "codemirror_mode": {
                "version": 3, 
                "name": "ipython"
            }
        }
    }, 
    "nbformat": 4
}